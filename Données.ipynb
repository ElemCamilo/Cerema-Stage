{
 "cells": [
  {
   "cell_type": "code",
   "execution_count": 2,
   "id": "85120689",
   "metadata": {},
   "outputs": [],
   "source": [
    "import pandas as pd\n",
    "import os\n",
    "from datetime import datetime\n",
    "import pyarrow.feather as feather"
   ]
  },
  {
   "cell_type": "code",
   "execution_count": null,
   "id": "66499b48",
   "metadata": {},
   "outputs": [],
   "source": [
    "\n",
    "liste_fichiers = []\n",
    "liste_master = []\n",
    "\n",
    "for filename in os.listdir(\"C:/Users/camal/Documents/Stage Cerema/Donnees/F1\"):\n",
    "    liste_fichiers.append(\"C:/Users/camal/Documents/Stage Cerema/Donnees/F1/\"+filename)"
   ]
  },
  {
   "cell_type": "code",
   "execution_count": null,
   "id": "8188b81e",
   "metadata": {},
   "outputs": [],
   "source": [
    "for i in range(1, len(liste_fichiers)):\n",
    "    if liste_fichiers[i - 1] > liste_fichiers[i]:\n",
    "        print('probleme')  #ils sont triées dans l'ordre croissant\n"
   ]
  },
  {
   "cell_type": "code",
   "execution_count": null,
   "id": "b083113a",
   "metadata": {
    "scrolled": true
   },
   "outputs": [],
   "source": [
    "for elem in liste_fichiers:\n",
    "    print(elem)\n",
    "    "
   ]
  },
  {
   "cell_type": "code",
   "execution_count": null,
   "id": "f76f00a7",
   "metadata": {},
   "outputs": [],
   "source": [
    "liste_fichiers[0][:69]"
   ]
  },
  {
   "cell_type": "code",
   "execution_count": null,
   "id": "8e9fd440",
   "metadata": {},
   "outputs": [],
   "source": [
    "liste_fichiers[0][:48]+'_renome/'"
   ]
  },
  {
   "cell_type": "code",
   "execution_count": null,
   "id": "f694892f",
   "metadata": {},
   "outputs": [],
   "source": [
    "liste_fichiers[0][49:69]"
   ]
  },
  {
   "cell_type": "markdown",
   "id": "6ec87075",
   "metadata": {},
   "source": [
    "# Création des fichiers renomés "
   ]
  },
  {
   "cell_type": "code",
   "execution_count": null,
   "id": "44ff52dd",
   "metadata": {},
   "outputs": [],
   "source": [
    "\n",
    "liste_conducteurs = [] \n",
    "liste_def = []\n",
    "for fichier in liste_fichiers:\n",
    "    if fichier[49:52] not in liste_conducteurs:\n",
    "        liste_conducteurs += [fichier[49:52]]\n",
    "        cpt = 1\n",
    "    df = pd.read_csv(fichier, sep = ';')\n",
    "    df['Tripnumber'] = cpt\n",
    "    print(fichier[:48])\n",
    "    print(fichier[49:69])\n",
    "    df.reset_index().to_feather(fichier[:48]+'_renome/'+fichier[49:69]+str(cpt)+'.ftr')\n",
    "    print(df['Tripnumber'])\n",
    "    liste_def.append(fichier[:48]+'_renome/'+fichier[49:69]+str(cpt)+'.ftr')\n",
    "    cpt += 1\n",
    "\n",
    "    "
   ]
  },
  {
   "cell_type": "code",
   "execution_count": null,
   "id": "8f733474",
   "metadata": {},
   "outputs": [],
   "source": [
    "print(liste_conducteurs)"
   ]
  },
  {
   "cell_type": "code",
   "execution_count": null,
   "id": "8027be6d",
   "metadata": {},
   "outputs": [],
   "source": [
    "print(liste_fichiers[0][49:52])"
   ]
  },
  {
   "cell_type": "code",
   "execution_count": null,
   "id": "b649397c",
   "metadata": {
    "scrolled": true
   },
   "outputs": [],
   "source": [
    "for element in liste_def:\n",
    "    print(element)"
   ]
  },
  {
   "cell_type": "code",
   "execution_count": null,
   "id": "170f0458",
   "metadata": {},
   "outputs": [],
   "source": [
    "df = pd.read_feather('C:/Users/camal/Documents/Stage Cerema/Donnees/F1_renome/N21_20140214_133937_1.ftr')"
   ]
  },
  {
   "cell_type": "code",
   "execution_count": null,
   "id": "8c2a11ba",
   "metadata": {},
   "outputs": [],
   "source": [
    "df"
   ]
  },
  {
   "cell_type": "markdown",
   "id": "d760837d",
   "metadata": {},
   "source": [
    "### Ajout de StreetView"
   ]
  },
  {
   "cell_type": "code",
   "execution_count": null,
   "id": "17efeb13",
   "metadata": {},
   "outputs": [],
   "source": [
    "df = pd.read_feather('C:/Users/camal/Documents/Stage Cerema/Donnees/ecodriverfinaldata.ftr')"
   ]
  },
  {
   "cell_type": "code",
   "execution_count": null,
   "id": "c91e9099",
   "metadata": {},
   "outputs": [],
   "source": [
    "df"
   ]
  },
  {
   "cell_type": "code",
   "execution_count": null,
   "id": "07e12933",
   "metadata": {},
   "outputs": [],
   "source": [
    "colonne = []"
   ]
  },
  {
   "cell_type": "code",
   "execution_count": null,
   "id": "25584efb",
   "metadata": {},
   "outputs": [],
   "source": [
    "for i in range(len(df)):\n",
    "    colonne.append('https://www.coordonnees-gps.fr/street-view/@'+ str(df['Latitude'][i])+','+ str(df['Longitude'][i])+',h117,p5,z1')"
   ]
  },
  {
   "cell_type": "code",
   "execution_count": null,
   "id": "49cfd886",
   "metadata": {},
   "outputs": [],
   "source": [
    "df = df.assign(StreetView= colonne)"
   ]
  },
  {
   "cell_type": "code",
   "execution_count": null,
   "id": "1cc987a8",
   "metadata": {},
   "outputs": [],
   "source": [
    "df = df.assign(Icon = 'car-taxi')"
   ]
  },
  {
   "cell_type": "code",
   "execution_count": null,
   "id": "17670e95",
   "metadata": {},
   "outputs": [],
   "source": [
    "df['SystemType'].value_counts()"
   ]
  },
  {
   "cell_type": "code",
   "execution_count": null,
   "id": "9af9e8cd",
   "metadata": {},
   "outputs": [],
   "source": [
    "df.to_feather('C:/Users/camal/Documents/Stage Cerema/Donnees/ecodriverfinaldata.ftr')"
   ]
  },
  {
   "cell_type": "code",
   "execution_count": null,
   "id": "f728fc70",
   "metadata": {},
   "outputs": [],
   "source": [
    "df = pd.read_feather('C:/Users/camal/Documents/Stage Cerema/Donnees/ecodriverfinaldata.ftr')"
   ]
  },
  {
   "cell_type": "code",
   "execution_count": null,
   "id": "0662bf72",
   "metadata": {},
   "outputs": [],
   "source": [
    "df"
   ]
  },
  {
   "cell_type": "markdown",
   "id": "0e20a5a3",
   "metadata": {},
   "source": [
    "## Transformation en minutes"
   ]
  },
  {
   "cell_type": "code",
   "execution_count": null,
   "id": "def5b9fe",
   "metadata": {},
   "outputs": [],
   "source": [
    "df = pd.read_feather('C:/Users/camal/Documents/Stage Cerema/Donnees/ecodriverfinaldata.ftr')"
   ]
  },
  {
   "cell_type": "code",
   "execution_count": null,
   "id": "c3fff56b",
   "metadata": {},
   "outputs": [],
   "source": [
    "df"
   ]
  },
  {
   "cell_type": "code",
   "execution_count": null,
   "id": "203be4b7",
   "metadata": {},
   "outputs": [],
   "source": [
    "nouvelle_colonne = []\n",
    "current_indice = 0\n",
    "for i in range(len(df)):   #conversion en minutes à partir de 0 du timestamp\n",
    "    if i == len(df) - 1:\n",
    "        valeurs = (df['Timestamp'][current_indice : i + 1] - df['Timestamp'][current_indice]) * 1.666666*10**(-5)\n",
    "        for elem in valeurs:\n",
    "            nouvelle_colonne.append(elem)\n",
    "    elif df['Tripnumber'][i] != df['Tripnumber'][current_indice]:\n",
    "        valeurs = (df['Timestamp'][current_indice : i] - df['Timestamp'][current_indice]) * 1.666666*10**(-5)\n",
    "        for elem in valeurs:\n",
    "            nouvelle_colonne.append(elem)\n",
    "        current_indice = i"
   ]
  },
  {
   "cell_type": "code",
   "execution_count": null,
   "id": "84f58d95",
   "metadata": {},
   "outputs": [],
   "source": [
    "print(len(nouvelle_colonne))"
   ]
  },
  {
   "cell_type": "code",
   "execution_count": null,
   "id": "a52218f3",
   "metadata": {},
   "outputs": [],
   "source": [
    "df = df.assign(temps_min = nouvelle_colonne)"
   ]
  },
  {
   "cell_type": "code",
   "execution_count": null,
   "id": "aa51205d",
   "metadata": {},
   "outputs": [],
   "source": [
    "df.to_feather('C:/Users/camal/Documents/Stage Cerema/Donnees/ecodriverfinaldata.ftr')"
   ]
  },
  {
   "cell_type": "code",
   "execution_count": null,
   "id": "f2e970c7",
   "metadata": {},
   "outputs": [],
   "source": [
    "df = pd.read_feather('C:/Users/camal/Documents/Stage Cerema/Donnees/ecodriverfinaldata.ftr')"
   ]
  },
  {
   "cell_type": "code",
   "execution_count": null,
   "id": "c5d3db6c",
   "metadata": {
    "scrolled": true
   },
   "outputs": [],
   "source": [
    "df"
   ]
  },
  {
   "cell_type": "code",
   "execution_count": null,
   "id": "586dc0f3",
   "metadata": {},
   "outputs": [],
   "source": [
    "for elem in df.columns:\n",
    "    print(elem)"
   ]
  },
  {
   "cell_type": "markdown",
   "id": "ea63ccde",
   "metadata": {},
   "source": [
    "## Transformation en heure"
   ]
  },
  {
   "cell_type": "code",
   "execution_count": 3,
   "id": "57bef376",
   "metadata": {},
   "outputs": [],
   "source": [
    "df = pd.read_feather('C:/Users/camal/Documents/Stage Cerema/Donnees/ecodriverfinaldata.ftr')"
   ]
  },
  {
   "cell_type": "code",
   "execution_count": null,
   "id": "1f761740",
   "metadata": {
    "scrolled": false
   },
   "outputs": [],
   "source": [
    "df"
   ]
  },
  {
   "cell_type": "code",
   "execution_count": null,
   "id": "e1cdd332",
   "metadata": {
    "scrolled": true
   },
   "outputs": [],
   "source": [
    "nouvelle_colonne = []\n",
    "for i in range(len(df)):\n",
    "    if str(df['Timestamp'][i]) == 'nan':\n",
    "        nouvelle_colonne.append('nan')\n",
    "    else:\n",
    "        elem = int(df['Timestamp'][i])/1000\n",
    "        yes = datetime.fromtimestamp(elem).strftime('%H:%M:%S:%f')\n",
    "        nouvelle_colonne.append(yes)"
   ]
  },
  {
   "cell_type": "code",
   "execution_count": null,
   "id": "ec50d888",
   "metadata": {},
   "outputs": [],
   "source": [
    "print(int(df['Timestamp'][1]))\n",
    "print(int(df['Timestamp'][2]))\n",
    "print(int(df['Timestamp'][3]))\n",
    "print(int(df['Timestamp'][4]))"
   ]
  },
  {
   "cell_type": "code",
   "execution_count": null,
   "id": "b15b39fe",
   "metadata": {},
   "outputs": [],
   "source": [
    "print(datetime.fromtimestamp(int(1394086767500)/1000).strftime('%d/%m/%Y %H:%M:%S:%f'))\n",
    "print(datetime.fromtimestamp(int(1394086767600)/1000).strftime('%H:%M:%S:%f'))\n"
   ]
  },
  {
   "cell_type": "code",
   "execution_count": null,
   "id": "b3d356ea",
   "metadata": {},
   "outputs": [],
   "source": [
    "for elem in nouvelle_colonne:\n",
    "    print(elem)"
   ]
  },
  {
   "cell_type": "code",
   "execution_count": null,
   "id": "7e877de7",
   "metadata": {},
   "outputs": [],
   "source": [
    "df = df.assign(heure = nouvelle_colonne)"
   ]
  },
  {
   "cell_type": "code",
   "execution_count": null,
   "id": "ccecd0df",
   "metadata": {},
   "outputs": [],
   "source": [
    "df"
   ]
  },
  {
   "cell_type": "code",
   "execution_count": null,
   "id": "7eb6cac2",
   "metadata": {},
   "outputs": [],
   "source": [
    "df.to_feather('C:/Users/camal/Documents/Stage Cerema/Donnees/ecodriverfinaldata.ftr')"
   ]
  },
  {
   "cell_type": "code",
   "execution_count": null,
   "id": "8a7d814f",
   "metadata": {},
   "outputs": [],
   "source": [
    "df = pd.read_feather('C:/Users/camal/Documents/Stage Cerema/Donnees/ecodriverfinaldata.ftr')"
   ]
  },
  {
   "cell_type": "code",
   "execution_count": null,
   "id": "a9395704",
   "metadata": {},
   "outputs": [],
   "source": [
    "df"
   ]
  },
  {
   "cell_type": "code",
   "execution_count": null,
   "id": "d3fc9235",
   "metadata": {},
   "outputs": [],
   "source": [
    "df['date'].unique()"
   ]
  },
  {
   "cell_type": "code",
   "execution_count": 3,
   "id": "898a6fc2",
   "metadata": {},
   "outputs": [
    {
     "data": {
      "text/html": [
       "<div>\n",
       "<style scoped>\n",
       "    .dataframe tbody tr th:only-of-type {\n",
       "        vertical-align: middle;\n",
       "    }\n",
       "\n",
       "    .dataframe tbody tr th {\n",
       "        vertical-align: top;\n",
       "    }\n",
       "\n",
       "    .dataframe thead th {\n",
       "        text-align: right;\n",
       "    }\n",
       "</style>\n",
       "<table border=\"1\" class=\"dataframe\">\n",
       "  <thead>\n",
       "    <tr style=\"text-align: right;\">\n",
       "      <th></th>\n",
       "      <th>Tripnumber</th>\n",
       "      <th>DriverID</th>\n",
       "      <th>SystemType</th>\n",
       "      <th>NumRecord</th>\n",
       "      <th>Timestamp</th>\n",
       "      <th>Time_OneHz</th>\n",
       "      <th>Cartype</th>\n",
       "      <th>Fleet</th>\n",
       "      <th>Logtype</th>\n",
       "      <th>SpeedLimit</th>\n",
       "      <th>...</th>\n",
       "      <th>smoothed_Acceleration_MM</th>\n",
       "      <th>smoothed_Jerk_MM</th>\n",
       "      <th>advice_shown</th>\n",
       "      <th>gearshift_indicator</th>\n",
       "      <th>events_distance</th>\n",
       "      <th>advice_speedlimit</th>\n",
       "      <th>StreetView</th>\n",
       "      <th>Icon</th>\n",
       "      <th>temps_min</th>\n",
       "      <th>heure</th>\n",
       "    </tr>\n",
       "  </thead>\n",
       "  <tbody>\n",
       "    <tr>\n",
       "      <th>1</th>\n",
       "      <td>1.0</td>\n",
       "      <td>C01</td>\n",
       "      <td>SS</td>\n",
       "      <td>1.0</td>\n",
       "      <td>1.394087e+12</td>\n",
       "      <td>0.0</td>\n",
       "      <td>Clio</td>\n",
       "      <td>C</td>\n",
       "      <td>LoggerCLIO</td>\n",
       "      <td>NaN</td>\n",
       "      <td>...</td>\n",
       "      <td>5.551115e-18</td>\n",
       "      <td>3.505967e-17</td>\n",
       "      <td>None</td>\n",
       "      <td>NaN</td>\n",
       "      <td>NaN</td>\n",
       "      <td>NaN</td>\n",
       "      <td>https://www.coordonnees-gps.fr/street-view/@48...</td>\n",
       "      <td>car-taxi</td>\n",
       "      <td>0.000000</td>\n",
       "      <td>07:19:27:500000</td>\n",
       "    </tr>\n",
       "    <tr>\n",
       "      <th>2</th>\n",
       "      <td>1.0</td>\n",
       "      <td>C01</td>\n",
       "      <td>SS</td>\n",
       "      <td>2.0</td>\n",
       "      <td>1.394087e+12</td>\n",
       "      <td>1.0</td>\n",
       "      <td>Clio</td>\n",
       "      <td>C</td>\n",
       "      <td>LoggerCLIO</td>\n",
       "      <td>NaN</td>\n",
       "      <td>...</td>\n",
       "      <td>5.286776e-18</td>\n",
       "      <td>3.330669e-17</td>\n",
       "      <td>None</td>\n",
       "      <td>NaN</td>\n",
       "      <td>NaN</td>\n",
       "      <td>NaN</td>\n",
       "      <td>https://www.coordonnees-gps.fr/street-view/@48...</td>\n",
       "      <td>car-taxi</td>\n",
       "      <td>0.001667</td>\n",
       "      <td>07:19:27:600000</td>\n",
       "    </tr>\n",
       "    <tr>\n",
       "      <th>3</th>\n",
       "      <td>1.0</td>\n",
       "      <td>C01</td>\n",
       "      <td>SS</td>\n",
       "      <td>3.0</td>\n",
       "      <td>1.394087e+12</td>\n",
       "      <td>2.0</td>\n",
       "      <td>Clio</td>\n",
       "      <td>C</td>\n",
       "      <td>LoggerCLIO</td>\n",
       "      <td>NaN</td>\n",
       "      <td>...</td>\n",
       "      <td>5.046468e-18</td>\n",
       "      <td>3.172066e-17</td>\n",
       "      <td>None</td>\n",
       "      <td>NaN</td>\n",
       "      <td>NaN</td>\n",
       "      <td>NaN</td>\n",
       "      <td>https://www.coordonnees-gps.fr/street-view/@48...</td>\n",
       "      <td>car-taxi</td>\n",
       "      <td>0.003333</td>\n",
       "      <td>07:19:27:700000</td>\n",
       "    </tr>\n",
       "    <tr>\n",
       "      <th>4</th>\n",
       "      <td>1.0</td>\n",
       "      <td>C01</td>\n",
       "      <td>SS</td>\n",
       "      <td>4.0</td>\n",
       "      <td>1.394087e+12</td>\n",
       "      <td>3.0</td>\n",
       "      <td>Clio</td>\n",
       "      <td>C</td>\n",
       "      <td>LoggerCLIO</td>\n",
       "      <td>NaN</td>\n",
       "      <td>...</td>\n",
       "      <td>4.827057e-18</td>\n",
       "      <td>3.027881e-17</td>\n",
       "      <td>None</td>\n",
       "      <td>NaN</td>\n",
       "      <td>NaN</td>\n",
       "      <td>NaN</td>\n",
       "      <td>https://www.coordonnees-gps.fr/street-view/@48...</td>\n",
       "      <td>car-taxi</td>\n",
       "      <td>0.005000</td>\n",
       "      <td>07:19:27:800000</td>\n",
       "    </tr>\n",
       "    <tr>\n",
       "      <th>5</th>\n",
       "      <td>1.0</td>\n",
       "      <td>C01</td>\n",
       "      <td>SS</td>\n",
       "      <td>5.0</td>\n",
       "      <td>1.394087e+12</td>\n",
       "      <td>4.0</td>\n",
       "      <td>Clio</td>\n",
       "      <td>C</td>\n",
       "      <td>LoggerCLIO</td>\n",
       "      <td>NaN</td>\n",
       "      <td>...</td>\n",
       "      <td>4.625929e-18</td>\n",
       "      <td>2.896234e-17</td>\n",
       "      <td>None</td>\n",
       "      <td>NaN</td>\n",
       "      <td>NaN</td>\n",
       "      <td>NaN</td>\n",
       "      <td>https://www.coordonnees-gps.fr/street-view/@48...</td>\n",
       "      <td>car-taxi</td>\n",
       "      <td>0.006667</td>\n",
       "      <td>07:19:27:900000</td>\n",
       "    </tr>\n",
       "    <tr>\n",
       "      <th>...</th>\n",
       "      <td>...</td>\n",
       "      <td>...</td>\n",
       "      <td>...</td>\n",
       "      <td>...</td>\n",
       "      <td>...</td>\n",
       "      <td>...</td>\n",
       "      <td>...</td>\n",
       "      <td>...</td>\n",
       "      <td>...</td>\n",
       "      <td>...</td>\n",
       "      <td>...</td>\n",
       "      <td>...</td>\n",
       "      <td>...</td>\n",
       "      <td>...</td>\n",
       "      <td>...</td>\n",
       "      <td>...</td>\n",
       "      <td>...</td>\n",
       "      <td>...</td>\n",
       "      <td>...</td>\n",
       "      <td>...</td>\n",
       "      <td>...</td>\n",
       "    </tr>\n",
       "    <tr>\n",
       "      <th>4520735</th>\n",
       "      <td>6.0</td>\n",
       "      <td>N30</td>\n",
       "      <td>SS</td>\n",
       "      <td>30425.0</td>\n",
       "      <td>1.406196e+12</td>\n",
       "      <td>30424.0</td>\n",
       "      <td>Clio</td>\n",
       "      <td>N</td>\n",
       "      <td>LoggerCLIO</td>\n",
       "      <td>30.0</td>\n",
       "      <td>...</td>\n",
       "      <td>0.000000e+00</td>\n",
       "      <td>0.000000e+00</td>\n",
       "      <td>None</td>\n",
       "      <td>NaN</td>\n",
       "      <td>NaN</td>\n",
       "      <td>NaN</td>\n",
       "      <td>https://www.coordonnees-gps.fr/street-view/@48...</td>\n",
       "      <td>car-taxi</td>\n",
       "      <td>50.706646</td>\n",
       "      <td>11:59:58:500000</td>\n",
       "    </tr>\n",
       "    <tr>\n",
       "      <th>4520736</th>\n",
       "      <td>6.0</td>\n",
       "      <td>N30</td>\n",
       "      <td>SS</td>\n",
       "      <td>30426.0</td>\n",
       "      <td>1.406196e+12</td>\n",
       "      <td>30425.0</td>\n",
       "      <td>Clio</td>\n",
       "      <td>N</td>\n",
       "      <td>LoggerCLIO</td>\n",
       "      <td>30.0</td>\n",
       "      <td>...</td>\n",
       "      <td>0.000000e+00</td>\n",
       "      <td>0.000000e+00</td>\n",
       "      <td>None</td>\n",
       "      <td>NaN</td>\n",
       "      <td>NaN</td>\n",
       "      <td>NaN</td>\n",
       "      <td>https://www.coordonnees-gps.fr/street-view/@48...</td>\n",
       "      <td>car-taxi</td>\n",
       "      <td>50.708313</td>\n",
       "      <td>11:59:58:600000</td>\n",
       "    </tr>\n",
       "    <tr>\n",
       "      <th>4520737</th>\n",
       "      <td>6.0</td>\n",
       "      <td>N30</td>\n",
       "      <td>SS</td>\n",
       "      <td>30427.0</td>\n",
       "      <td>1.406196e+12</td>\n",
       "      <td>30426.0</td>\n",
       "      <td>Clio</td>\n",
       "      <td>N</td>\n",
       "      <td>LoggerCLIO</td>\n",
       "      <td>30.0</td>\n",
       "      <td>...</td>\n",
       "      <td>0.000000e+00</td>\n",
       "      <td>0.000000e+00</td>\n",
       "      <td>None</td>\n",
       "      <td>NaN</td>\n",
       "      <td>NaN</td>\n",
       "      <td>NaN</td>\n",
       "      <td>https://www.coordonnees-gps.fr/street-view/@48...</td>\n",
       "      <td>car-taxi</td>\n",
       "      <td>50.709980</td>\n",
       "      <td>11:59:58:700000</td>\n",
       "    </tr>\n",
       "    <tr>\n",
       "      <th>4520738</th>\n",
       "      <td>6.0</td>\n",
       "      <td>N30</td>\n",
       "      <td>SS</td>\n",
       "      <td>30428.0</td>\n",
       "      <td>1.406196e+12</td>\n",
       "      <td>30427.0</td>\n",
       "      <td>Clio</td>\n",
       "      <td>N</td>\n",
       "      <td>LoggerCLIO</td>\n",
       "      <td>30.0</td>\n",
       "      <td>...</td>\n",
       "      <td>0.000000e+00</td>\n",
       "      <td>0.000000e+00</td>\n",
       "      <td>None</td>\n",
       "      <td>NaN</td>\n",
       "      <td>NaN</td>\n",
       "      <td>NaN</td>\n",
       "      <td>https://www.coordonnees-gps.fr/street-view/@48...</td>\n",
       "      <td>car-taxi</td>\n",
       "      <td>50.711646</td>\n",
       "      <td>11:59:58:800000</td>\n",
       "    </tr>\n",
       "    <tr>\n",
       "      <th>4520739</th>\n",
       "      <td>6.0</td>\n",
       "      <td>N30</td>\n",
       "      <td>SS</td>\n",
       "      <td>30429.0</td>\n",
       "      <td>1.406196e+12</td>\n",
       "      <td>30428.0</td>\n",
       "      <td>Clio</td>\n",
       "      <td>N</td>\n",
       "      <td>LoggerCLIO</td>\n",
       "      <td>30.0</td>\n",
       "      <td>...</td>\n",
       "      <td>0.000000e+00</td>\n",
       "      <td>0.000000e+00</td>\n",
       "      <td>None</td>\n",
       "      <td>NaN</td>\n",
       "      <td>NaN</td>\n",
       "      <td>NaN</td>\n",
       "      <td>https://www.coordonnees-gps.fr/street-view/@48...</td>\n",
       "      <td>car-taxi</td>\n",
       "      <td>50.713313</td>\n",
       "      <td>11:59:58:900000</td>\n",
       "    </tr>\n",
       "  </tbody>\n",
       "</table>\n",
       "<p>4520739 rows × 91 columns</p>\n",
       "</div>"
      ],
      "text/plain": [
       "         Tripnumber DriverID SystemType  NumRecord     Timestamp  Time_OneHz  \\\n",
       "1               1.0      C01         SS        1.0  1.394087e+12         0.0   \n",
       "2               1.0      C01         SS        2.0  1.394087e+12         1.0   \n",
       "3               1.0      C01         SS        3.0  1.394087e+12         2.0   \n",
       "4               1.0      C01         SS        4.0  1.394087e+12         3.0   \n",
       "5               1.0      C01         SS        5.0  1.394087e+12         4.0   \n",
       "...             ...      ...        ...        ...           ...         ...   \n",
       "4520735         6.0      N30         SS    30425.0  1.406196e+12     30424.0   \n",
       "4520736         6.0      N30         SS    30426.0  1.406196e+12     30425.0   \n",
       "4520737         6.0      N30         SS    30427.0  1.406196e+12     30426.0   \n",
       "4520738         6.0      N30         SS    30428.0  1.406196e+12     30427.0   \n",
       "4520739         6.0      N30         SS    30429.0  1.406196e+12     30428.0   \n",
       "\n",
       "        Cartype Fleet     Logtype  SpeedLimit  ...  smoothed_Acceleration_MM  \\\n",
       "1          Clio     C  LoggerCLIO         NaN  ...              5.551115e-18   \n",
       "2          Clio     C  LoggerCLIO         NaN  ...              5.286776e-18   \n",
       "3          Clio     C  LoggerCLIO         NaN  ...              5.046468e-18   \n",
       "4          Clio     C  LoggerCLIO         NaN  ...              4.827057e-18   \n",
       "5          Clio     C  LoggerCLIO         NaN  ...              4.625929e-18   \n",
       "...         ...   ...         ...         ...  ...                       ...   \n",
       "4520735    Clio     N  LoggerCLIO        30.0  ...              0.000000e+00   \n",
       "4520736    Clio     N  LoggerCLIO        30.0  ...              0.000000e+00   \n",
       "4520737    Clio     N  LoggerCLIO        30.0  ...              0.000000e+00   \n",
       "4520738    Clio     N  LoggerCLIO        30.0  ...              0.000000e+00   \n",
       "4520739    Clio     N  LoggerCLIO        30.0  ...              0.000000e+00   \n",
       "\n",
       "         smoothed_Jerk_MM  advice_shown  gearshift_indicator  events_distance  \\\n",
       "1            3.505967e-17          None                  NaN              NaN   \n",
       "2            3.330669e-17          None                  NaN              NaN   \n",
       "3            3.172066e-17          None                  NaN              NaN   \n",
       "4            3.027881e-17          None                  NaN              NaN   \n",
       "5            2.896234e-17          None                  NaN              NaN   \n",
       "...                   ...           ...                  ...              ...   \n",
       "4520735      0.000000e+00          None                  NaN              NaN   \n",
       "4520736      0.000000e+00          None                  NaN              NaN   \n",
       "4520737      0.000000e+00          None                  NaN              NaN   \n",
       "4520738      0.000000e+00          None                  NaN              NaN   \n",
       "4520739      0.000000e+00          None                  NaN              NaN   \n",
       "\n",
       "         advice_speedlimit                                         StreetView  \\\n",
       "1                      NaN  https://www.coordonnees-gps.fr/street-view/@48...   \n",
       "2                      NaN  https://www.coordonnees-gps.fr/street-view/@48...   \n",
       "3                      NaN  https://www.coordonnees-gps.fr/street-view/@48...   \n",
       "4                      NaN  https://www.coordonnees-gps.fr/street-view/@48...   \n",
       "5                      NaN  https://www.coordonnees-gps.fr/street-view/@48...   \n",
       "...                    ...                                                ...   \n",
       "4520735                NaN  https://www.coordonnees-gps.fr/street-view/@48...   \n",
       "4520736                NaN  https://www.coordonnees-gps.fr/street-view/@48...   \n",
       "4520737                NaN  https://www.coordonnees-gps.fr/street-view/@48...   \n",
       "4520738                NaN  https://www.coordonnees-gps.fr/street-view/@48...   \n",
       "4520739                NaN  https://www.coordonnees-gps.fr/street-view/@48...   \n",
       "\n",
       "             Icon  temps_min            heure  \n",
       "1        car-taxi   0.000000  07:19:27:500000  \n",
       "2        car-taxi   0.001667  07:19:27:600000  \n",
       "3        car-taxi   0.003333  07:19:27:700000  \n",
       "4        car-taxi   0.005000  07:19:27:800000  \n",
       "5        car-taxi   0.006667  07:19:27:900000  \n",
       "...           ...        ...              ...  \n",
       "4520735  car-taxi  50.706646  11:59:58:500000  \n",
       "4520736  car-taxi  50.708313  11:59:58:600000  \n",
       "4520737  car-taxi  50.709980  11:59:58:700000  \n",
       "4520738  car-taxi  50.711646  11:59:58:800000  \n",
       "4520739  car-taxi  50.713313  11:59:58:900000  \n",
       "\n",
       "[4520739 rows x 91 columns]"
      ]
     },
     "execution_count": 3,
     "metadata": {},
     "output_type": "execute_result"
    }
   ],
   "source": [
    "df = pd.read_feather('C:/Users/camal/Documents/Stage Cerema/Donnees/ecodriverfinaldata.ftr')\n",
    "df = df.iloc[1:]\n",
    "df"
   ]
  },
  {
   "cell_type": "code",
   "execution_count": 4,
   "id": "af8ebb9f",
   "metadata": {},
   "outputs": [
    {
     "data": {
      "text/plain": [
       "32.51076443217663"
      ]
     },
     "execution_count": 4,
     "metadata": {},
     "output_type": "execute_result"
    }
   ],
   "source": [
    "df[df['DriverID'] == 'N21']['InstantSpeed_CAN'].mean()\n"
   ]
  },
  {
   "cell_type": "code",
   "execution_count": 5,
   "id": "4ba18335",
   "metadata": {},
   "outputs": [
    {
     "data": {
      "text/html": [
       "<div>\n",
       "<style scoped>\n",
       "    .dataframe tbody tr th:only-of-type {\n",
       "        vertical-align: middle;\n",
       "    }\n",
       "\n",
       "    .dataframe tbody tr th {\n",
       "        vertical-align: top;\n",
       "    }\n",
       "\n",
       "    .dataframe thead th {\n",
       "        text-align: right;\n",
       "    }\n",
       "</style>\n",
       "<table border=\"1\" class=\"dataframe\">\n",
       "  <thead>\n",
       "    <tr style=\"text-align: right;\">\n",
       "      <th></th>\n",
       "      <th>N21_6T</th>\n",
       "    </tr>\n",
       "  </thead>\n",
       "  <tbody>\n",
       "    <tr>\n",
       "      <th>0</th>\n",
       "      <td>32.510764</td>\n",
       "    </tr>\n",
       "  </tbody>\n",
       "</table>\n",
       "</div>"
      ],
      "text/plain": [
       "      N21_6T\n",
       "0  32.510764"
      ]
     },
     "execution_count": 5,
     "metadata": {},
     "output_type": "execute_result"
    }
   ],
   "source": [
    "d = {'N21_6T': [df[df['DriverID'] == 'N21']['InstantSpeed_CAN'].mean()]}\n",
    "df = pd.DataFrame(data=d)\n",
    "df"
   ]
  },
  {
   "cell_type": "code",
   "execution_count": 6,
   "id": "4b783e55",
   "metadata": {},
   "outputs": [],
   "source": [
    "df.to_feather('C:/Users/camal/Documents/Stage Cerema/Donnees/N21_6T_agrege.ftr')"
   ]
  },
  {
   "cell_type": "code",
   "execution_count": 7,
   "id": "81fe4382",
   "metadata": {},
   "outputs": [],
   "source": [
    "df = pd.read_feather('C:/Users/camal/Documents/Stage Cerema/Donnees/N21_6T_agrege.ftr')"
   ]
  },
  {
   "cell_type": "code",
   "execution_count": 8,
   "id": "d4584ab6",
   "metadata": {},
   "outputs": [
    {
     "data": {
      "text/html": [
       "<div>\n",
       "<style scoped>\n",
       "    .dataframe tbody tr th:only-of-type {\n",
       "        vertical-align: middle;\n",
       "    }\n",
       "\n",
       "    .dataframe tbody tr th {\n",
       "        vertical-align: top;\n",
       "    }\n",
       "\n",
       "    .dataframe thead th {\n",
       "        text-align: right;\n",
       "    }\n",
       "</style>\n",
       "<table border=\"1\" class=\"dataframe\">\n",
       "  <thead>\n",
       "    <tr style=\"text-align: right;\">\n",
       "      <th></th>\n",
       "      <th>N21_6T</th>\n",
       "    </tr>\n",
       "  </thead>\n",
       "  <tbody>\n",
       "    <tr>\n",
       "      <th>0</th>\n",
       "      <td>32.510764</td>\n",
       "    </tr>\n",
       "  </tbody>\n",
       "</table>\n",
       "</div>"
      ],
      "text/plain": [
       "      N21_6T\n",
       "0  32.510764"
      ]
     },
     "execution_count": 8,
     "metadata": {},
     "output_type": "execute_result"
    }
   ],
   "source": [
    "df"
   ]
  }
 ],
 "metadata": {
  "interpreter": {
   "hash": "a56f8cf76945016e205b866a6cad6dae98751c4bda8f6dcd06c06121daad6fe3"
  },
  "kernelspec": {
   "display_name": "Python 3.9.7 ('base')",
   "language": "python",
   "name": "python3"
  },
  "language_info": {
   "codemirror_mode": {
    "name": "ipython",
    "version": 3
   },
   "file_extension": ".py",
   "mimetype": "text/x-python",
   "name": "python",
   "nbconvert_exporter": "python",
   "pygments_lexer": "ipython3",
   "version": "3.9.7"
  }
 },
 "nbformat": 4,
 "nbformat_minor": 5
}
