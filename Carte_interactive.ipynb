from flask import Flask, render_template, Markup, request, session
app = Flask(__name__)
app.secret_key = 'RomainetCamilo'

from keplergl import KeplerGl
import leafmap.kepler as leafmap
import pandas as pd
from bs4 import BeautifulSoup as bs
import json
import os
import re


df = pd.read_csv('C:/Users/camal/OneDrive/Documents/Paul Sab-LAPTOP-TA6IG0DJ/Stage/Donnees/ecodriverfinaldata.csv', sep=';')
df

def newDF(var,Nomc,df):
    df = df[df[Nomc] == var]
    return(df)

#site web


@app.route("/", methods = ['GET', 'POST'])
def traficurbain():
    code_html = ""
    liste_cols = ['Tripnumber','DriverID', 'SystemType']
    for colonne in liste_cols:
        code_html += "<select id ="+colonne+">"   
        for attribut in df[colonne].unique():
            if str(attribut) != 'nan':
                code_html += "<option value = '"+str(attribut)+"' >"+str(attribut)+"</option>"
        code_html += "</select> "
    code_html += " <button id = 'bV' onclick = 'data()'>Valider</button>"
    #code_html_b += " <p id = 'test'>Post yes</p>"
    code_js = "<script src=\"../static/js/script.js\"></script>"
    code_css = "<link rel=\"stylesheet\" type= \"text/css\" href=\"../static/css/main.css\"/>"
    code_html_form = "<form id = 'liste_data_f' method = 'post' action = '/'><input type = 'hidden' id = 'liste_data' name = 'liste_data' value = ''></form>"
    
    if list(request.form) == []:

        #Ajout de la map kepler vide car première ouverture 
        
        #compteur pour referentier le fichier html créé
        session['cpt'] = 0
        map_1 = KeplerGl()
        map_1.save_to_html(file_name="C:/Users/camal/OneDrive/Documents/Paul Sab-LAPTOP-TA6IG0DJ/Stage/Donnees/templates/map"+str(session['cpt'])+".html")
        fichier = open(os.path.join('C:/Users/camal/OneDrive/Documents/Paul Sab-LAPTOP-TA6IG0DJ/Stage/Donnees/templates', "map"+str(session['cpt'])+".html"))
        
        
    else:
        
        #Ajout de la map kepler avec les données choisies 
        
        print("helo")
        liste_def = request.form['liste_data'].split(',')
        print(liste_def)
        data_f = df
        cpt = 0
        for i in range(1, len(liste_def), 2):
            if cpt == 0:
                data_f = newDF(int(float(liste_def[i - 1])),liste_def[i],data_f)
                cpt += 1
            else:
                data_f = newDF(liste_def[i - 1],liste_def[i],data_f)
        
        session['cpt'] += 1
        map_def = KeplerGl(data={"data_1": data_f})
        map_def.save_to_html(file_name="C:/Users/camal/OneDrive/Documents/Paul Sab-LAPTOP-TA6IG0DJ/Stage/Donnees/templates/map"+str(session['cpt'])+".html")
        fichier = open(os.path.join('C:/Users/camal/OneDrive/Documents/Paul Sab-LAPTOP-TA6IG0DJ/Stage/Donnees/templates', "map"+str(session['cpt'])+".html"))
        
        
    soup = bs(fichier, 'html.parser')
    
    #ajout du content dans le body
    
    body = soup.find("body")
    #body.insert(0, '{{content_test}}')
    body.append('{{content_form}}')
    body.append('{{content}}')
    
    #ajout du content dans le head
    
    head = soup.find("head")
    head.insert_after("{{content_js}}")
    head.insert_after("{{content_css}}")

    
    #on sauvegarde le fichier 
    with open("C:/Users/camal/OneDrive/Documents/Paul Sab-LAPTOP-TA6IG0DJ/Stage/Donnees/templates/map"+str(session['cpt'])+".html", "wb") as f_output:
        f_output.write(soup.prettify("utf-8"))
        #on montre la page
    return render_template("map"+str(session['cpt'])+".html", content = Markup(code_html), content_js = Markup(code_js), content_css = Markup(code_css), content_form = Markup(code_html_form))
   
    

app.run()
